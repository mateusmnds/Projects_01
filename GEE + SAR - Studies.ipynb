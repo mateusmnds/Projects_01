{
 "cells": [
  {
   "cell_type": "markdown",
   "metadata": {},
   "source": [
    "<h2><center> Using Jupyter integrated with gee to analyse SAR data.</center> </h2>\n",
    "<center> The porpose of this Jupyter is to study how to do the same thing that we did in gee to analyse deforestation in a time series using SAR data but using the Jupyter and Python.<br>\n",
    "The next step will be use one pack(streamlit, pydeck, kepler) to share as webapp."
   ]
  },
  {
   "cell_type": "markdown",
   "metadata": {},
   "source": [
    "<h5> Step 01 : Import the packages"
   ]
  },
  {
   "cell_type": "code",
   "execution_count": 1,
   "metadata": {},
   "outputs": [],
   "source": [
    "import geemap as gee\n",
    "import ee"
   ]
  },
  {
   "cell_type": "code",
   "execution_count": 50,
   "metadata": {},
   "outputs": [],
   "source": [
    "import os"
   ]
  },
  {
   "cell_type": "markdown",
   "metadata": {},
   "source": [
    "<h5> Step 02 : Create an interative map that will be used to add the layers </h5>"
   ]
  },
  {
   "cell_type": "code",
   "execution_count": 2,
   "metadata": {},
   "outputs": [],
   "source": [
    "Map = gee.Map(center = [-9.5, -63], zoom = 8)"
   ]
  },
  {
   "cell_type": "code",
   "execution_count": 3,
   "metadata": {},
   "outputs": [
    {
     "data": {
      "application/vnd.jupyter.widget-view+json": {
       "model_id": "1257fbc925594f6eb64d8305a8daa3d0",
       "version_major": 2,
       "version_minor": 0
      },
      "text/plain": [
       "Map(center=[-9.5, -63], controls=(ZoomControl(options=['position', 'zoom_in_text', 'zoom_in_title', 'zoom_out_…"
      ]
     },
     "metadata": {},
     "output_type": "display_data"
    }
   ],
   "source": [
    "Map"
   ]
  },
  {
   "cell_type": "code",
   "execution_count": 4,
   "metadata": {},
   "outputs": [],
   "source": [
    "area = ee.FeatureCollection(Map.draw_features)"
   ]
  },
  {
   "cell_type": "markdown",
   "metadata": {},
   "source": [
    "<h5> Step 03: Collecting the data and appling the filters. <br></h5>\n",
    "VV Polarization"
   ]
  },
  {
   "cell_type": "code",
   "execution_count": 5,
   "metadata": {},
   "outputs": [],
   "source": [
    "collectionVV = ee.ImageCollection('COPERNICUS/S1_GRD')\\\n",
    ".filter(ee.Filter.eq('instrumentMode', 'IW'))\\\n",
    ".filter(ee.Filter.listContains('transmitterReceiverPolarisation', 'VV'))\\\n",
    ".filter(ee.Filter.eq('orbitProperties_pass', 'DESCENDING'))\\\n",
    ".filterMetadata('resolution_meters', 'equals' , 10).select('VV')\\\n",
    ".filterBounds(area)"
   ]
  },
  {
   "cell_type": "markdown",
   "metadata": {},
   "source": [
    "VH Polarization"
   ]
  },
  {
   "cell_type": "code",
   "execution_count": 6,
   "metadata": {},
   "outputs": [],
   "source": [
    "collectionVH = ee.ImageCollection('COPERNICUS/S1_GRD')\\\n",
    ".filter(ee.Filter.eq('instrumentMode', 'IW'))\\\n",
    ".filter(ee.Filter.listContains('transmitterReceiverPolarisation', 'VH'))\\\n",
    ".filter(ee.Filter.eq('orbitProperties_pass', 'DESCENDING'))\\\n",
    ".filterMetadata('resolution_meters', 'equals' , 10).select('VH')\\\n",
    ".filterBounds(area)"
   ]
  },
  {
   "cell_type": "markdown",
   "metadata": {},
   "source": [
    "<h5> Step 04 - Filter by data of interest; Let's use 4 different years (2017,2018,2019,2020)"
   ]
  },
  {
   "cell_type": "markdown",
   "metadata": {},
   "source": [
    "VV"
   ]
  },
  {
   "cell_type": "code",
   "execution_count": 12,
   "metadata": {},
   "outputs": [],
   "source": [
    "VV_2017 = collectionVV.filterDate('2017-01-01','2017-01-15').mosaic().clip(area)\n",
    "VV_2018 = collectionVV.filterDate('2018-01-01','2018-01-15').mosaic().clip(area)\n",
    "VV_2019 = collectionVV.filterDate('2019-01-01','2019-01-15').mosaic().clip(area)\n",
    "VV_2020 = collectionVV.filterDate('2020-01-01','2020-01-15').mosaic().clip(area)"
   ]
  },
  {
   "cell_type": "markdown",
   "metadata": {},
   "source": [
    "VH"
   ]
  },
  {
   "cell_type": "code",
   "execution_count": 8,
   "metadata": {},
   "outputs": [],
   "source": [
    "VH_2017 = collectionVH.filterDate('2017-01-01','2017-01-15').mosaic().clip(area)\n",
    "VH_2018 = collectionVH.filterDate('2018-01-01','2018-01-15').mosaic().clip(area)\n",
    "VH_2019 = collectionVH.filterDate('2019-01-01','2019-01-15').mosaic().clip(area)\n",
    "VH_2020 = collectionVH.filterDate('2020-01-01','2020-01-15').mosaic().clip(area)"
   ]
  },
  {
   "cell_type": "markdown",
   "metadata": {},
   "source": [
    "<h5> Step 05 - Creating the layers that will be used in the split_map()"
   ]
  },
  {
   "cell_type": "code",
   "execution_count": 13,
   "metadata": {},
   "outputs": [],
   "source": [
    "VV_17_Layer = gee.ee_tile_layer(VV_2017, {'min':-15,'max':0}, '2017 VV', 0)\n",
    "VV_18_Layer = gee.ee_tile_layer(VV_2018, {'min':-15,'max':0}, '2018 VV', 0)\n",
    "VV_19_Layer = gee.ee_tile_layer(VV_2019, {'min':-15,'max':0}, '2019 VV', 0)\n",
    "VV_20_Layer = gee.ee_tile_layer(VV_2020, {'min':-15,'max':0}, '2020 VV', 0)"
   ]
  },
  {
   "cell_type": "code",
   "execution_count": 14,
   "metadata": {},
   "outputs": [],
   "source": [
    "VH_17_Layer = gee.ee_tile_layer(VH_2017, {'min':-15,'max':0}, '2017 VH', 0)\n",
    "VH_18_Layer = gee.ee_tile_layer(VH_2018, {'min':-15,'max':0}, '2018 VH', 0)\n",
    "VH_19_Layer = gee.ee_tile_layer(VH_2019, {'min':-15,'max':0}, '2019 VH', 0)\n",
    "VH_20_Layer = gee.ee_tile_layer(VH_2020, {'min':-15,'max':0}, '2020 VH', 0)"
   ]
  },
  {
   "cell_type": "markdown",
   "metadata": {},
   "source": [
    "<h5> Applying the speckle filter</h5><br>\n",
    "<i> Defining the Smoothing Radius"
   ]
  },
  {
   "cell_type": "code",
   "execution_count": 15,
   "metadata": {},
   "outputs": [],
   "source": [
    "SmooRad = 50"
   ]
  },
  {
   "cell_type": "markdown",
   "metadata": {},
   "source": [
    "<i> Applying the function and creating a new SpeckLayer."
   ]
  },
  {
   "cell_type": "code",
   "execution_count": 16,
   "metadata": {},
   "outputs": [],
   "source": [
    "VV_2017_SpeckFilter = VV_2017.focal_mean(SmooRad, 'circle', 'meters')\n",
    "VV_2018_SpeckFilter = VV_2018.focal_mean(SmooRad, 'circle', 'meters')\n",
    "VV_2019_SpeckFilter = VV_2019.focal_mean(SmooRad, 'circle', 'meters')\n",
    "VV_2020_SpeckFilter = VV_2020.focal_mean(SmooRad, 'circle', 'meters')"
   ]
  },
  {
   "cell_type": "code",
   "execution_count": 17,
   "metadata": {},
   "outputs": [],
   "source": [
    "VV_17_Speck_Layer = gee.ee_tile_layer(VV_2017_SpeckFilter, {'min':-15,'max':0}, '2017 VV', 0)\n",
    "VV_18_Speck_Layer = gee.ee_tile_layer(VV_2018_SpeckFilter, {'min':-15,'max':0}, '2018 VV', 0)\n",
    "VV_19_Speck_Layer = gee.ee_tile_layer(VV_2019_SpeckFilter, {'min':-15,'max':0}, '2019 VV', 0)\n",
    "VV_20_Speck_Layer = gee.ee_tile_layer(VV_2020_SpeckFilter, {'min':-15,'max':0}, '2020 VV', 0)"
   ]
  },
  {
   "cell_type": "code",
   "execution_count": 18,
   "metadata": {},
   "outputs": [],
   "source": [
    "VH_2017_SpeckFilter = VH_2017.focal_mean(SmooRad, 'circle', 'meters')\n",
    "VH_2018_SpeckFilter = VH_2018.focal_mean(SmooRad, 'circle', 'meters')\n",
    "VH_2019_SpeckFilter = VH_2019.focal_mean(SmooRad, 'circle', 'meters')\n",
    "VH_2020_SpeckFilter = VH_2020.focal_mean(SmooRad, 'circle', 'meters')"
   ]
  },
  {
   "cell_type": "code",
   "execution_count": 19,
   "metadata": {},
   "outputs": [],
   "source": [
    "VH_17_Speck_Layer = gee.ee_tile_layer(VH_2017_SpeckFilter, {'min':-15,'max':0}, '2017 VH', 0)\n",
    "VH_18_Speck_Layer = gee.ee_tile_layer(VH_2018_SpeckFilter, {'min':-15,'max':0}, '2018 VH', 0)\n",
    "VH_19_Speck_Layer = gee.ee_tile_layer(VH_2019_SpeckFilter, {'min':-15,'max':0}, '2019 VH', 0)\n",
    "VH_20_Speck_Layer = gee.ee_tile_layer(VH_2020_SpeckFilter, {'min':-15,'max':0}, '2020 VH', 0)"
   ]
  },
  {
   "cell_type": "markdown",
   "metadata": {},
   "source": [
    "<h5> Step 07 - Doing the difference between years, to see the increase and decrease of the vegetation.</h5><br>\n",
    "\n",
    "<i> To do that we substract one value from the anoter, because the imagens are in dB, and the logscale, the ration between two log is a substract operation."
   ]
  },
  {
   "cell_type": "code",
   "execution_count": 20,
   "metadata": {},
   "outputs": [],
   "source": [
    "dif17_18VV = VV_2017_SpeckFilter.subtract(VV_2018_SpeckFilter)\n",
    "dif18_19VV = VV_2018_SpeckFilter.subtract(VV_2019_SpeckFilter)\n",
    "dif19_20VV = VV_2019_SpeckFilter.subtract(VV_2020_SpeckFilter)"
   ]
  },
  {
   "cell_type": "code",
   "execution_count": 21,
   "metadata": {},
   "outputs": [],
   "source": [
    "dif17_18VH = VH_2017_SpeckFilter.subtract(VH_2018_SpeckFilter)\n",
    "dif18_19VH = VH_2018_SpeckFilter.subtract(VH_2019_SpeckFilter)\n",
    "dif19_20VH = VH_2019_SpeckFilter.subtract(VH_2020_SpeckFilter)"
   ]
  },
  {
   "cell_type": "markdown",
   "metadata": {},
   "source": [
    "<i> Creating a layer of the differences, it's interesting because the brighter areas are the one that had loss in vegetation and the darker had the increase."
   ]
  },
  {
   "cell_type": "code",
   "execution_count": 22,
   "metadata": {},
   "outputs": [],
   "source": [
    "dif17_18VV_Layer = gee.ee_tile_layer(dif17_18VV,{'min':-9, 'max':9}, '2017/2018 VV', 0)\n",
    "dif18_19VV_Layer = gee.ee_tile_layer(dif18_19VV,{'min':-9, 'max':9}, '2018/2019 VV', 0)\n",
    "dif19_20VV_Layer = gee.ee_tile_layer(dif19_20VV,{'min':-9, 'max':9}, '2019/2020 VV', 0)"
   ]
  },
  {
   "cell_type": "code",
   "execution_count": 23,
   "metadata": {},
   "outputs": [],
   "source": [
    "dif17_18VH_Layer = gee.ee_tile_layer(dif17_18VH,{'min':-9, 'max':9}, '2017/2018 VH', 0)\n",
    "dif18_19VH_Layer = gee.ee_tile_layer(dif18_19VH,{'min':-9, 'max':9}, '2018/2019 VH', 0)\n",
    "dif19_20VH_Layer = gee.ee_tile_layer(dif19_20VH,{'min':-9, 'max':9}, '2019/2020 VH', 0)"
   ]
  },
  {
   "cell_type": "markdown",
   "metadata": {},
   "source": [
    "<i> With that we have the layers with the difference, and it's possible to run the code bellow to see the map splited in two pages and do a visual comparative analysis if for example, the vegetation loss in 17-18 and 18-19."
   ]
  },
  {
   "cell_type": "markdown",
   "metadata": {},
   "source": [
    "<h5> In the example above we will put the left as the layer of the VH with Speckle Filter, and right side the difference from 2017 to 2018."
   ]
  },
  {
   "cell_type": "code",
   "execution_count": 114,
   "metadata": {
    "scrolled": true
   },
   "outputs": [
    {
     "name": "stdout",
     "output_type": "stream",
     "text": [
      "control not on map: LayersControl(options=['position'], position='topright')\n",
      "The provided layers are invalid!\n"
     ]
    }
   ],
   "source": [
    "Map.split_map(left_layer = VH_17_Speck_Layer, right_layer = dif17_18VH_Layer)"
   ]
  },
  {
   "cell_type": "code",
   "execution_count": 25,
   "metadata": {},
   "outputs": [
    {
     "data": {
      "application/vnd.jupyter.widget-view+json": {
       "model_id": "1257fbc925594f6eb64d8305a8daa3d0",
       "version_major": 2,
       "version_minor": 0
      },
      "text/plain": [
       "Map(center=[-9.5, -63], controls=(ZoomControl(options=['position', 'zoom_in_text', 'zoom_in_title', 'zoom_out_…"
      ]
     },
     "metadata": {},
     "output_type": "display_data"
    }
   ],
   "source": [
    "Map"
   ]
  },
  {
   "cell_type": "markdown",
   "metadata": {},
   "source": [
    "<i><h5> Next steps:</h5><br> 1 - calculate the mean and std deviation of the diff images. <br> 2 - use this values to define a threshold value.<br> 3 - with the threshold value create a mask and add this mask layer."
   ]
  },
  {
   "cell_type": "markdown",
   "metadata": {},
   "source": [
    "<i><h5> Idea for the next Jupyter:</h5><br>1 - use the for loop, and a def function to just set up the years of interest and the date interval.<br>2 - print histogram of the differences using the plt;"
   ]
  }
 ],
 "metadata": {
  "kernelspec": {
   "display_name": "Python 3",
   "language": "python",
   "name": "python3"
  },
  "language_info": {
   "codemirror_mode": {
    "name": "ipython",
    "version": 3
   },
   "file_extension": ".py",
   "mimetype": "text/x-python",
   "name": "python",
   "nbconvert_exporter": "python",
   "pygments_lexer": "ipython3",
   "version": "3.7.6"
  }
 },
 "nbformat": 4,
 "nbformat_minor": 4
}
